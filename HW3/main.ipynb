{
 "cells": [
  {
   "cell_type": "code",
   "execution_count": 22,
   "metadata": {},
   "outputs": [
    {
     "name": "stdout",
     "output_type": "stream",
     "text": [
      "device = cuda:0\n"
     ]
    }
   ],
   "source": [
    "import transformers as T\n",
    "from datasets import load_dataset\n",
    "import torch\n",
    "from torch.utils.data import Dataset, DataLoader\n",
    "from torch.optim import AdamW\n",
    "from tqdm import tqdm\n",
    "from torchmetrics import SpearmanCorrCoef, Accuracy, F1Score\n",
    "device = \"cuda:0\" if torch.cuda.is_available() else \"mps\" if torch.backends.mps.is_available() else \"cpu\"\n",
    "print(f'device = {device}')"
   ]
  },
  {
   "cell_type": "code",
   "execution_count": 23,
   "metadata": {},
   "outputs": [],
   "source": [
    "# 有些中文的標點符號在tokenizer編碼以後會變成[UNK]，所以將其換成英文標點\n",
    "token_replacement = [\n",
    "    [\"：\" , \":\"],\n",
    "    [\"，\" , \",\"],\n",
    "    [\"“\" , \"\\\"\"],\n",
    "    [\"”\" , \"\\\"\"],\n",
    "    [\"？\" , \"?\"],\n",
    "    [\"……\" , \"...\"],\n",
    "    [\"！\" , \"!\"]\n",
    "]"
   ]
  },
  {
   "cell_type": "code",
   "execution_count": 24,
   "metadata": {},
   "outputs": [
    {
     "name": "stdout",
     "output_type": "stream",
     "text": [
      "Dataset example: \n",
      "{'sentence_pair_id': 1, 'premise': 'A group of kids is playing in a yard and an old man is standing in the background', 'hypothesis': 'A group of boys in a yard is playing and a man is standing in the background', 'relatedness_score': 4.5, 'entailment_judgment': 0} \n",
      "{'sentence_pair_id': 2, 'premise': 'A group of children is playing in the house and there is no man standing in the background', 'hypothesis': 'A group of kids is playing in a yard and an old man is standing in the background', 'relatedness_score': 3.200000047683716, 'entailment_judgment': 0} \n",
      "{'sentence_pair_id': 3, 'premise': 'The young boys are playing outdoors and the man is smiling nearby', 'hypothesis': 'The kids are playing outdoors near a man with a smile', 'relatedness_score': 4.699999809265137, 'entailment_judgment': 1}\n"
     ]
    }
   ],
   "source": [
    "class SemevalDataset(Dataset):\n",
    "    def __init__(self, split=\"train\") -> None:\n",
    "        super().__init__()\n",
    "        assert split in [\"train\", \"validation\", \"test\"]\n",
    "        self.data = load_dataset(\n",
    "            \"sem_eval_2014_task_1\", split=split, cache_dir=\"./cache/\", trust_remote_code=True\n",
    "        ).to_list()\n",
    "\n",
    "    def __getitem__(self, index):\n",
    "        d = self.data[index]\n",
    "        # 把中文標點替換掉\n",
    "        for k in [\"premise\", \"hypothesis\"]:\n",
    "            for tok in token_replacement:\n",
    "                d[k] = d[k].replace(tok[0], tok[1])\n",
    "        return d\n",
    "\n",
    "    def __len__(self):\n",
    "        return len(self.data)\n",
    "\n",
    "data_sample = SemevalDataset(split=\"train\").data[:3]\n",
    "print(f\"Dataset example: \\n{data_sample[0]} \\n{data_sample[1]} \\n{data_sample[2]}\")"
   ]
  },
  {
   "cell_type": "code",
   "execution_count": 25,
   "metadata": {},
   "outputs": [],
   "source": [
    "# Define the hyperparameters\n",
    "lr = 3e-5\n",
    "epochs = 10\n",
    "train_batch_size = 50\n",
    "validation_batch_size = 50\n",
    "test_batch_size = 50"
   ]
  },
  {
   "cell_type": "code",
   "execution_count": 26,
   "metadata": {},
   "outputs": [],
   "source": [
    "tokenizer = T.BertTokenizer.from_pretrained(\"bert-base-uncased\")"
   ]
  },
  {
   "cell_type": "code",
   "execution_count": 27,
   "metadata": {},
   "outputs": [],
   "source": [
    "# TODO1: Create batched data for DataLoader\n",
    "# `collate_fn` is a function that defines how the data batch should be packed.\n",
    "# This function will be called in the DataLoader to pack the data batch.\n",
    "\n",
    "def collate_fn(batch):\n",
    "    # TODO1-1: Implement the collate_fn function\n",
    "    # Write your code here\n",
    "    # The input parameter is a data batch (tuple), and this function packs it into tensors.\n",
    "    # Use tokenizer to pack tokenize and pack the data and its corresponding labels.\n",
    "    # Return the data batch and labels for each sub-task.\n",
    "    # Extract relevant fields from the batch\n",
    "    sentence_pairs = [item['premise'] + \" [SEP] \" + item['hypothesis'] for item in batch]\n",
    "    relatedness_scores = [item['relatedness_score'] for item in batch]\n",
    "    entailment_judgments = [item['entailment_judgment'] for item in batch]\n",
    "    \n",
    "    # Tokenize the input text and convert to tensors with padding\n",
    "    encoded_inputs = tokenizer(\n",
    "        sentence_pairs,\n",
    "        return_tensors='pt',\n",
    "        padding=True,            # Pad the sequences to the maximum length in the batch\n",
    "        truncation=True,          # Truncate sequences that are longer than the max model length\n",
    "        max_length=512            # You can change max_length depending on your data/model\n",
    "    )\n",
    "    \n",
    "    # Convert relatedness scores and entailment judgments to tensors\n",
    "    relatedness_scores_tensor = torch.tensor(relatedness_scores, dtype=torch.float)\n",
    "    entailment_judgments_tensor = torch.tensor(entailment_judgments, dtype=torch.long)\n",
    "    \n",
    "    # Return the dictionary containing input_ids, attention_mask, relatedness_scores, and entailment_judgments\n",
    "    return {\n",
    "        'input_ids': encoded_inputs['input_ids'],\n",
    "        'token_type_ids': encoded_inputs['token_type_ids'],\n",
    "        'attention_mask': encoded_inputs['attention_mask'],\n",
    "        'relatedness_score': relatedness_scores_tensor,\n",
    "        'entailment_judgment': entailment_judgments_tensor\n",
    "    }\n",
    "\n",
    "    \n",
    "# TODO1-2: Define your DataLoader\n",
    "ds_train = SemevalDataset(split=\"train\").data\n",
    "ds_validation = SemevalDataset(split=\"validation\").data\n",
    "dl_train = DataLoader(ds_train, batch_size=train_batch_size, collate_fn=collate_fn) # Write your code here\n",
    "dl_validation = DataLoader(ds_validation, batch_size=validation_batch_size, collate_fn=collate_fn) # Write your code here"
   ]
  },
  {
   "cell_type": "code",
   "execution_count": 28,
   "metadata": {},
   "outputs": [],
   "source": [
    "# TODO2: Construct your model\n",
    "class MultiLabelModel(torch.nn.Module):\n",
    "    def __init__(self, *args, **kwargs):\n",
    "        super().__init__(*args, **kwargs)\n",
    "        # Write your code here\n",
    "        # Define what modules you will use in the model\n",
    "        self.bert = T.BertModel.from_pretrained(\"bert-base-uncased\")\n",
    "        self.linear_list = torch.nn.Sequential(torch.nn.Linear(self.bert.config.hidden_size, 2000), \n",
    "                                               torch.nn.Linear(2000, 500), \n",
    "                                               torch.nn.Linear(500, 125),\n",
    "                                               )\n",
    "        self.linear_relatedness = torch.nn.Linear(125, 1)  # For predicting relatedness score\n",
    "        self.linear_entailment = torch.nn.Linear(125, 3)   # For predicting entailment judgment (e.g., 3 classes)\n",
    "    def forward(self, **kwargs):\n",
    "        # Write your code here\n",
    "        # Forward pass\n",
    "        # Forward pass through BERT\n",
    "        input_ids = kwargs['input_ids']\n",
    "        attention_mask = kwargs['attention_mask']\n",
    "        outputs = self.bert(input_ids=input_ids, attention_mask=attention_mask)\n",
    "        x = outputs.pooler_output  # Get the pooled output for classification tasks\n",
    "        \n",
    "        x = self.linear_list(x)\n",
    "        \n",
    "        # Predict relatedness score\n",
    "        relatedness_score = self.linear_relatedness(x).squeeze(-1)\n",
    "        \n",
    "        # Predict entailment judgment\n",
    "        entailment_judgment = self.linear_entailment(x)\n",
    "        \n",
    "        return {\n",
    "            'relatedness_score': relatedness_score,\n",
    "            'entailment_judgment': entailment_judgment\n",
    "        }"
   ]
  },
  {
   "cell_type": "code",
   "execution_count": 29,
   "metadata": {},
   "outputs": [],
   "source": [
    "model = MultiLabelModel().to(device)"
   ]
  },
  {
   "cell_type": "code",
   "execution_count": 30,
   "metadata": {},
   "outputs": [],
   "source": [
    "# TODO3: Define your optimizer and loss function\n",
    "\n",
    "# TODO3-1: Define your Optimizer\n",
    "optimizer = torch.optim.Adam(model.parameters(), lr=lr)# Write your code here\n",
    "\n",
    "# TODO3-2: Define your loss functions (you should have two)\n",
    "# Write your code here\n",
    "MSE = torch.nn.MSELoss()\n",
    "CrossEntorpy = torch.nn.CrossEntropyLoss()\n",
    "\n",
    "# scoring functions\n",
    "spc = SpearmanCorrCoef().to(device)\n",
    "acc = Accuracy(task=\"multiclass\", num_classes=3).to(device)\n",
    "f1 = F1Score(task=\"multiclass\", num_classes=3, average='macro').to(device)"
   ]
  },
  {
   "cell_type": "code",
   "execution_count": 31,
   "metadata": {},
   "outputs": [
    {
     "name": "stderr",
     "output_type": "stream",
     "text": [
      "Training epoch [1/10]: 100%|██████████| 90/90 [00:06<00:00, 14.13it/s]\n",
      "Validation epoch [1/10]: 100%|██████████| 10/10 [00:00<00:00, 27.67it/s]\n"
     ]
    },
    {
     "name": "stdout",
     "output_type": "stream",
     "text": [
      "spc = 0.3857594430446625, acc = 0.7580000162124634, f1 = 0.7792052030563354\n"
     ]
    },
    {
     "name": "stderr",
     "output_type": "stream",
     "text": [
      "Training epoch [2/10]: 100%|██████████| 90/90 [00:06<00:00, 14.20it/s]\n",
      "Validation epoch [2/10]: 100%|██████████| 10/10 [00:00<00:00, 28.41it/s]\n"
     ]
    },
    {
     "name": "stdout",
     "output_type": "stream",
     "text": [
      "spc = -0.12660935521125793, acc = 0.7820000052452087, f1 = 0.7944146990776062\n"
     ]
    },
    {
     "name": "stderr",
     "output_type": "stream",
     "text": [
      "Training epoch [3/10]: 100%|██████████| 90/90 [00:06<00:00, 14.27it/s]\n",
      "Validation epoch [3/10]: 100%|██████████| 10/10 [00:00<00:00, 28.11it/s]\n"
     ]
    },
    {
     "name": "stdout",
     "output_type": "stream",
     "text": [
      "spc = -0.2774164080619812, acc = 0.8479999899864197, f1 = 0.846908688545227\n"
     ]
    },
    {
     "name": "stderr",
     "output_type": "stream",
     "text": [
      "Training epoch [4/10]: 100%|██████████| 90/90 [00:06<00:00, 14.27it/s]\n",
      "Validation epoch [4/10]: 100%|██████████| 10/10 [00:00<00:00, 28.06it/s]\n"
     ]
    },
    {
     "name": "stdout",
     "output_type": "stream",
     "text": [
      "spc = -0.3434978723526001, acc = 0.8539999723434448, f1 = 0.852716326713562\n"
     ]
    },
    {
     "name": "stderr",
     "output_type": "stream",
     "text": [
      "Training epoch [5/10]: 100%|██████████| 90/90 [00:06<00:00, 14.19it/s]\n",
      "Validation epoch [5/10]: 100%|██████████| 10/10 [00:00<00:00, 27.76it/s]\n"
     ]
    },
    {
     "name": "stdout",
     "output_type": "stream",
     "text": [
      "spc = -0.4419223368167877, acc = 0.8379999995231628, f1 = 0.8384534120559692\n"
     ]
    },
    {
     "name": "stderr",
     "output_type": "stream",
     "text": [
      "Training epoch [6/10]: 100%|██████████| 90/90 [00:06<00:00, 14.22it/s]\n",
      "Validation epoch [6/10]: 100%|██████████| 10/10 [00:00<00:00, 27.90it/s]\n"
     ]
    },
    {
     "name": "stdout",
     "output_type": "stream",
     "text": [
      "spc = -0.2994832396507263, acc = 0.8339999914169312, f1 = 0.8330016136169434\n"
     ]
    },
    {
     "name": "stderr",
     "output_type": "stream",
     "text": [
      "Training epoch [7/10]: 100%|██████████| 90/90 [00:06<00:00, 14.19it/s]\n",
      "Validation epoch [7/10]: 100%|██████████| 10/10 [00:00<00:00, 28.11it/s]\n"
     ]
    },
    {
     "name": "stdout",
     "output_type": "stream",
     "text": [
      "spc = -0.22948558628559113, acc = 0.8379999995231628, f1 = 0.8429731130599976\n"
     ]
    },
    {
     "name": "stderr",
     "output_type": "stream",
     "text": [
      "Training epoch [8/10]: 100%|██████████| 90/90 [00:06<00:00, 14.23it/s]\n",
      "Validation epoch [8/10]: 100%|██████████| 10/10 [00:00<00:00, 28.25it/s]\n"
     ]
    },
    {
     "name": "stdout",
     "output_type": "stream",
     "text": [
      "spc = -0.18127447366714478, acc = 0.8379999995231628, f1 = 0.8412142992019653\n"
     ]
    },
    {
     "name": "stderr",
     "output_type": "stream",
     "text": [
      "Training epoch [9/10]: 100%|██████████| 90/90 [00:06<00:00, 14.22it/s]\n",
      "Validation epoch [9/10]: 100%|██████████| 10/10 [00:00<00:00, 28.44it/s]\n"
     ]
    },
    {
     "name": "stdout",
     "output_type": "stream",
     "text": [
      "spc = -0.23653079569339752, acc = 0.8500000238418579, f1 = 0.8469316959381104\n"
     ]
    },
    {
     "name": "stderr",
     "output_type": "stream",
     "text": [
      "Training epoch [10/10]: 100%|██████████| 90/90 [00:06<00:00, 14.22it/s]\n",
      "Validation epoch [10/10]: 100%|██████████| 10/10 [00:00<00:00, 27.93it/s]"
     ]
    },
    {
     "name": "stdout",
     "output_type": "stream",
     "text": [
      "spc = -0.1394266039133072, acc = 0.8259999752044678, f1 = 0.8224334716796875\n"
     ]
    },
    {
     "name": "stderr",
     "output_type": "stream",
     "text": [
      "\n"
     ]
    }
   ],
   "source": [
    "for ep in range(epochs):\n",
    "    pbar = tqdm(dl_train)\n",
    "    pbar.set_description(f\"Training epoch [{ep+1}/{epochs}]\")\n",
    "    model.train()\n",
    "    # TODO4: Write the training loop\n",
    "    # Write your code here\n",
    "    # train your model\n",
    "    # clear gradient\n",
    "    # forward pass\n",
    "    # compute loss\n",
    "    # back-propagation\n",
    "    # model optimization\n",
    "    for batch in pbar:\n",
    "        input_ids = batch['input_ids'].to(device)\n",
    "        attention_mask = batch['attention_mask'].to(device)\n",
    "        relatedness_scores = batch['relatedness_score'].to(device)\n",
    "        entailment_judgments = batch['entailment_judgment'].to(device)\n",
    "        \n",
    "        optimizer.zero_grad()\n",
    "        pred = model(input_ids = input_ids, attention_mask = attention_mask)\n",
    "\n",
    "        loss_regression = MSE(pred['relatedness_score'], relatedness_scores)\n",
    "        loss_classification = CrossEntorpy(pred['entailment_judgment'], entailment_judgments)\n",
    "        # weight be 1 means only trains the resgression part, and 0 means only trains the classification part\n",
    "        # 0.5 means training at the same time -> multi-output\n",
    "        loss = 0 * loss_regression + 1 * loss_classification\n",
    "        loss.backward()\n",
    "        optimizer.step()\n",
    "        \n",
    "\n",
    "    pbar = tqdm(dl_validation)\n",
    "    pbar.set_description(f\"Validation epoch [{ep+1}/{epochs}]\")\n",
    "    model.eval()\n",
    "    # TODO5: Write the evaluation loop\n",
    "    # Write your code here\n",
    "    # Evaluate your model\n",
    "    # Output all the evaluation scores (SpearmanCorrCoef, Accuracy, F1Score)\n",
    "    with torch.no_grad():\n",
    "        for batch in pbar:\n",
    "            input_ids = batch['input_ids'].to(device)\n",
    "            attention_mask = batch['attention_mask'].to(device)\n",
    "            relatedness_score = batch['relatedness_score'].to(device)\n",
    "            entailment_judgment = batch['entailment_judgment'].to(device)\n",
    "            \n",
    "            # Forward pass\n",
    "            pred = model(input_ids=input_ids, attention_mask=attention_mask)\n",
    "            \n",
    "            # Compute loss\n",
    "            spc.update(relatedness_score, pred['relatedness_score'])\n",
    "            acc.update(entailment_judgment, torch.argmax(pred[\"entailment_judgment\"], dim=-1))\n",
    "            f1.update(entailment_judgment, torch.argmax(pred[\"entailment_judgment\"], dim=-1))\n",
    "        \n",
    "        print(f'spc = {spc.compute()}, acc = {acc.compute()}, f1 = {f1.compute()}')\n",
    "        spc.reset()\n",
    "        acc.reset()\n",
    "        f1.reset()\n",
    "    # torch.save(model, f'./ep{ep}.ckpt')"
   ]
  },
  {
   "cell_type": "markdown",
   "metadata": {},
   "source": [
    "For test set predictions, you can write perform evaluation simlar to #TODO5."
   ]
  },
  {
   "cell_type": "code",
   "execution_count": 32,
   "metadata": {},
   "outputs": [
    {
     "name": "stderr",
     "output_type": "stream",
     "text": [
      "Test: 100%|██████████| 99/99 [00:02<00:00, 34.66it/s]"
     ]
    },
    {
     "name": "stdout",
     "output_type": "stream",
     "text": [
      "\n",
      "spc = -0.20264136791229248\n",
      "acc = 0.8376293778419495\n",
      "f1 = 0.8322234153747559\n"
     ]
    },
    {
     "name": "stderr",
     "output_type": "stream",
     "text": [
      "\n"
     ]
    }
   ],
   "source": [
    "ds_test = SemevalDataset(split=\"test\").data\n",
    "dl_test = DataLoader(dataset=ds_test, batch_size=test_batch_size, collate_fn=collate_fn)\n",
    "\n",
    "pbar = tqdm(dl_test)\n",
    "pbar.set_description(f\"Test\")\n",
    "model.eval()\n",
    "\n",
    "with torch.no_grad():\n",
    "    for batch in pbar:\n",
    "        input_ids = batch['input_ids'].to(device)\n",
    "        attention_mask = batch['attention_mask'].to(device)\n",
    "        relatedness_score = batch['relatedness_score'].to(device)\n",
    "        entailment_judgment = batch['entailment_judgment'].to(device)\n",
    "        \n",
    "        output = model(input_ids=input_ids, attention_mask=attention_mask)\n",
    "        \n",
    "       # calculate scores\n",
    "        spc.update(relatedness_score, output['relatedness_score'])\n",
    "        acc.update(entailment_judgment, torch.argmax(output[\"entailment_judgment\"], dim=-1))\n",
    "        f1.update(entailment_judgment, torch.argmax(output[\"entailment_judgment\"], dim=-1))\n",
    "        \n",
    "    print(f'\\nspc = {spc.compute()}')\n",
    "    print(f'acc = {acc.compute()}')\n",
    "    print(f'f1 = {f1.compute()}')\n",
    "    spc.reset()\n",
    "    acc.reset()\n",
    "    f1.reset()"
   ]
  }
 ],
 "metadata": {
  "kernelspec": {
   "display_name": "NLP",
   "language": "python",
   "name": "python3"
  },
  "language_info": {
   "codemirror_mode": {
    "name": "ipython",
    "version": 3
   },
   "file_extension": ".py",
   "mimetype": "text/x-python",
   "name": "python",
   "nbconvert_exporter": "python",
   "pygments_lexer": "ipython3",
   "version": "3.9.13"
  }
 },
 "nbformat": 4,
 "nbformat_minor": 2
}
