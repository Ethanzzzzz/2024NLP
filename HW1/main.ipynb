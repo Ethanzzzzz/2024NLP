{
  "cells": [
    {
      "cell_type": "markdown",
      "metadata": {
        "id": "p6yklm2xWn9f"
      },
      "source": [
        "## Part I: Data Pre-processing"
      ]
    },
    {
      "cell_type": "code",
      "execution_count": 1,
      "metadata": {
        "id": "YycoIJomXwqH"
      },
      "outputs": [],
      "source": [
        "import pandas as pd"
      ]
    },
    {
      "cell_type": "code",
      "execution_count": 2,
      "metadata": {
        "id": "KKAXuhZIUxD8"
      },
      "outputs": [
        {
          "name": "stderr",
          "output_type": "stream",
          "text": [
            "'wget' ���O�����Υ~���R�O�B�i���檺�{���Χ妸�ɡC\n"
          ]
        }
      ],
      "source": [
        "# Download the Google Analogy dataset\n",
        "!wget http://download.tensorflow.org/data/questions-words.txt"
      ]
    },
    {
      "cell_type": "code",
      "execution_count": 3,
      "metadata": {
        "id": "xue5pVFLVNQQ"
      },
      "outputs": [],
      "source": [
        "# Preprocess the dataset\n",
        "file_name = \"questions-words\"\n",
        "with open(f\"{file_name}.txt\", \"r\") as f:\n",
        "    data = f.read().splitlines()"
      ]
    },
    {
      "cell_type": "code",
      "execution_count": 4,
      "metadata": {
        "id": "h7dOdJOsZzAF"
      },
      "outputs": [
        {
          "name": "stdout",
          "output_type": "stream",
          "text": [
            ": capital-common-countries\n",
            "Athens Greece Baghdad Iraq\n",
            "Athens Greece Bangkok Thailand\n",
            "Athens Greece Beijing China\n",
            "Athens Greece Berlin Germany\n",
            "Athens Greece Bern Switzerland\n",
            "Athens Greece Cairo Egypt\n",
            "Athens Greece Canberra Australia\n",
            "Athens Greece Hanoi Vietnam\n",
            "Athens Greece Havana Cuba\n"
          ]
        }
      ],
      "source": [
        "# check data from the first 10 entries\n",
        "for entry in data[:10]:\n",
        "    print(entry)"
      ]
    },
    {
      "cell_type": "code",
      "execution_count": 5,
      "metadata": {
        "id": "wmYQ0IWZZxf3"
      },
      "outputs": [],
      "source": [
        "# TODO1: Write your code here for processing data to pd.DataFrame\n",
        "# Please note that the first five mentions of \": \" indicate `semantic`,\n",
        "# and the remaining nine belong to the `syntatic` category."
      ]
    },
    {
      "cell_type": "code",
      "execution_count": 6,
      "metadata": {
        "id": "_bKA05rVZb_i"
      },
      "outputs": [],
      "source": [
        "# Create the dataframe\n",
        "df = pd.DataFrame(\n",
        "    {\n",
        "        \"Question\": [],\n",
        "        \"Category\": [],\n",
        "        \"SubCategory\": [],\n",
        "    }\n",
        ")\n",
        "cur_cat = ''\n",
        "cur_subcat = ''\n",
        "sub_count = 0\n",
        "for entry in data:\n",
        "    if entry[0] == ':':\n",
        "        sub_count += 1\n",
        "        cur_subcat = entry\n",
        "        if sub_count <= 5:\n",
        "            cur_cat = \"Semantic\"\n",
        "        else:\n",
        "            cur_cat = \"Syntatic\"\n",
        "    else:\n",
        "        df2 = pd.DataFrame({\"Question\": [entry], \"Category\": [cur_cat], \"SubCategory\": [cur_subcat],})\n",
        "        df = pd.concat([df, df2], ignore_index = True)"
      ]
    },
    {
      "cell_type": "code",
      "execution_count": 7,
      "metadata": {
        "id": "UN2FBcicZmpV"
      },
      "outputs": [
        {
          "data": {
            "text/html": [
              "<div>\n",
              "<style scoped>\n",
              "    .dataframe tbody tr th:only-of-type {\n",
              "        vertical-align: middle;\n",
              "    }\n",
              "\n",
              "    .dataframe tbody tr th {\n",
              "        vertical-align: top;\n",
              "    }\n",
              "\n",
              "    .dataframe thead th {\n",
              "        text-align: right;\n",
              "    }\n",
              "</style>\n",
              "<table border=\"1\" class=\"dataframe\">\n",
              "  <thead>\n",
              "    <tr style=\"text-align: right;\">\n",
              "      <th></th>\n",
              "      <th>Question</th>\n",
              "      <th>Category</th>\n",
              "      <th>SubCategory</th>\n",
              "    </tr>\n",
              "  </thead>\n",
              "  <tbody>\n",
              "    <tr>\n",
              "      <th>0</th>\n",
              "      <td>Athens Greece Baghdad Iraq</td>\n",
              "      <td>Semantic</td>\n",
              "      <td>: capital-common-countries</td>\n",
              "    </tr>\n",
              "    <tr>\n",
              "      <th>1</th>\n",
              "      <td>Athens Greece Bangkok Thailand</td>\n",
              "      <td>Semantic</td>\n",
              "      <td>: capital-common-countries</td>\n",
              "    </tr>\n",
              "    <tr>\n",
              "      <th>2</th>\n",
              "      <td>Athens Greece Beijing China</td>\n",
              "      <td>Semantic</td>\n",
              "      <td>: capital-common-countries</td>\n",
              "    </tr>\n",
              "    <tr>\n",
              "      <th>3</th>\n",
              "      <td>Athens Greece Berlin Germany</td>\n",
              "      <td>Semantic</td>\n",
              "      <td>: capital-common-countries</td>\n",
              "    </tr>\n",
              "    <tr>\n",
              "      <th>4</th>\n",
              "      <td>Athens Greece Bern Switzerland</td>\n",
              "      <td>Semantic</td>\n",
              "      <td>: capital-common-countries</td>\n",
              "    </tr>\n",
              "  </tbody>\n",
              "</table>\n",
              "</div>"
            ],
            "text/plain": [
              "                         Question  Category                 SubCategory\n",
              "0      Athens Greece Baghdad Iraq  Semantic  : capital-common-countries\n",
              "1  Athens Greece Bangkok Thailand  Semantic  : capital-common-countries\n",
              "2     Athens Greece Beijing China  Semantic  : capital-common-countries\n",
              "3    Athens Greece Berlin Germany  Semantic  : capital-common-countries\n",
              "4  Athens Greece Bern Switzerland  Semantic  : capital-common-countries"
            ]
          },
          "execution_count": 7,
          "metadata": {},
          "output_type": "execute_result"
        }
      ],
      "source": [
        "df.head()"
      ]
    },
    {
      "cell_type": "code",
      "execution_count": 8,
      "metadata": {
        "id": "nMGvoDeiZhbp"
      },
      "outputs": [],
      "source": [
        "df.to_csv(f\"{file_name}.csv\", index=False)"
      ]
    },
    {
      "cell_type": "markdown",
      "metadata": {
        "id": "Zi2SNNuHWiZO"
      },
      "source": [
        "## Part II: Use pre-trained word embeddings\n",
        "- After finish Part I, you can run Part II code blocks only."
      ]
    },
    {
      "cell_type": "code",
      "execution_count": 4,
      "metadata": {
        "id": "yB4rpJymXiSN"
      },
      "outputs": [],
      "source": [
        "import pandas as pd\n",
        "import numpy as np\n",
        "import gensim.downloader\n",
        "from tqdm import tqdm\n",
        "import matplotlib.pyplot as plt\n",
        "from sklearn.manifold import TSNE"
      ]
    },
    {
      "cell_type": "code",
      "execution_count": 10,
      "metadata": {
        "id": "-pGLoyKSHXuQ"
      },
      "outputs": [],
      "source": [
        "data = pd.read_csv(\"questions-words.csv\")"
      ]
    },
    {
      "cell_type": "code",
      "execution_count": 11,
      "metadata": {
        "id": "YWa_1hF3aZHO"
      },
      "outputs": [
        {
          "name": "stdout",
          "output_type": "stream",
          "text": [
            "The Gensim model loaded successfully!\n"
          ]
        }
      ],
      "source": [
        "MODEL_NAME = \"glove-wiki-gigaword-100\"\n",
        "# You can try other models.\n",
        "# https://radimrehurek.com/gensim/models/word2vec.html#pretrained-models\n",
        "\n",
        "# Load the pre-trained model (using GloVe vectors here)\n",
        "model = gensim.downloader.load(MODEL_NAME)\n",
        "print(\"The Gensim model loaded successfully!\")"
      ]
    },
    {
      "cell_type": "code",
      "execution_count": 12,
      "metadata": {
        "id": "YTsqJcP1WSTH"
      },
      "outputs": [
        {
          "name": "stderr",
          "output_type": "stream",
          "text": [
            "100%|██████████| 19544/19544 [02:57<00:00, 110.40it/s]\n"
          ]
        }
      ],
      "source": [
        "# Do predictions and preserve the gold answers (word_D)\n",
        "preds = []\n",
        "golds = []\n",
        "\n",
        "for analogy in tqdm(data[\"Question\"]):\n",
        "      # TODO2: Write your code here to use pre-trained word embeddings for getting predictions of the analogy task.\n",
        "      # You should also preserve the gold answers during iterations for evaluations later.\n",
        "      \"\"\" Hints\n",
        "      # Unpack the analogy (e.g., \"man\", \"woman\", \"king\", \"queen\")\n",
        "      # Perform vector arithmetic: word_b + word_c - word_a should be close to word_d\n",
        "      # Source: https://github.com/piskvorky/gensim/blob/develop/gensim/models/keyedvectors.py#L776\n",
        "      # Mikolov et al., 2013: big - biggest and small - smallest\n",
        "      # Mikolov et al., 2013: X = vector(”biggest”) - vector(”big”) + vector(”small”).\n",
        "      \"\"\"\n",
        "      unpack = analogy.split()\n",
        "      unpack = list(map(lambda x: x.lower(), unpack))\n",
        "      golds.append(unpack[-1])\n",
        "      result = model.most_similar(positive=[unpack[1], unpack[2]], negative=[unpack[0]])\n",
        "      preds.append(result[0][0])"
      ]
    },
    {
      "cell_type": "code",
      "execution_count": 13,
      "metadata": {
        "id": "xG7vcPXAW6uT"
      },
      "outputs": [
        {
          "name": "stdout",
          "output_type": "stream",
          "text": [
            "Category: Semantic, Accuracy: 65.3399481339497%\n",
            "Category: Syntatic, Accuracy: 61.255269320843084%\n",
            "Sub-Category: capital-common-countries, Accuracy: 93.87351778656127%\n",
            "Sub-Category: capital-world, Accuracy: 88.94783377541998%\n",
            "Sub-Category: currency, Accuracy: 14.203233256351039%\n",
            "Sub-Category: city-in-state, Accuracy: 30.806647750304013%\n",
            "Sub-Category: family, Accuracy: 81.62055335968378%\n",
            "Sub-Category: gram1-adjective-to-adverb, Accuracy: 24.39516129032258%\n",
            "Sub-Category: gram2-opposite, Accuracy: 20.073891625615765%\n",
            "Sub-Category: gram3-comparative, Accuracy: 79.12912912912913%\n",
            "Sub-Category: gram4-superlative, Accuracy: 54.278074866310156%\n",
            "Sub-Category: gram5-present-participle, Accuracy: 69.50757575757575%\n",
            "Sub-Category: gram6-nationality-adjective, Accuracy: 87.86741713570981%\n",
            "Sub-Category: gram7-past-tense, Accuracy: 55.44871794871795%\n",
            "Sub-Category: gram8-plural, Accuracy: 71.996996996997%\n",
            "Sub-Category: gram9-plural-verbs, Accuracy: 58.39080459770115%\n"
          ]
        }
      ],
      "source": [
        "# Perform evaluations. You do not need to modify this block!!\n",
        "\n",
        "def calculate_accuracy(gold: np.ndarray, pred: np.ndarray) -> float:\n",
        "    return np.mean(gold == pred)\n",
        "\n",
        "golds_np, preds_np = np.array(golds), np.array(preds)\n",
        "data = pd.read_csv(\"questions-words.csv\")\n",
        "\n",
        "# Evaluation: categories\n",
        "for category in data[\"Category\"].unique():\n",
        "    mask = data[\"Category\"] == category\n",
        "    golds_cat, preds_cat = golds_np[mask], preds_np[mask]\n",
        "    acc_cat = calculate_accuracy(golds_cat, preds_cat)\n",
        "    print(f\"Category: {category}, Accuracy: {acc_cat * 100}%\")\n",
        "\n",
        "# Evaluation: sub-categories\n",
        "for sub_category in data[\"SubCategory\"].unique():\n",
        "    mask = data[\"SubCategory\"] == sub_category\n",
        "    golds_subcat, preds_subcat = golds_np[mask], preds_np[mask]\n",
        "    acc_subcat = calculate_accuracy(golds_subcat, preds_subcat)\n",
        "    print(f\"Sub-Category{sub_category}, Accuracy: {acc_subcat * 100}%\")"
      ]
    },
    {
      "cell_type": "code",
      "execution_count": 14,
      "metadata": {
        "id": "7_z6CybBXKZu"
      },
      "outputs": [
        {
          "data": {
            "image/png": "[encoded data removed]",
            "text/plain": [
              "<Figure size 1000x600 with 1 Axes>"
            ]
          },
          "metadata": {},
          "output_type": "display_data"
        },
        {
          "data": {
            "text/plain": [
              "<Figure size 640x480 with 0 Axes>"
            ]
          },
          "metadata": {},
          "output_type": "display_data"
        }
      ],
      "source": [
        "# Collect words from Google Analogy dataset\n",
        "SUB_CATEGORY = \": family\"\n",
        "\n",
        "# TODO3: Plot t-SNE for the words in the SUB_CATEGORY `: family`\n",
        "\n",
        "words = set()\n",
        "for i in range(len(data[\"SubCategory\"])):\n",
        "    if data[\"SubCategory\"][i] == \": family\":\n",
        "        question = set(data[\"Question\"][i].split())\n",
        "        words.update(question)\n",
        "words = list(map(lambda x: x.lower(), words))\n",
        "\n",
        "words_embeddings = np.array(model[words]) # 100-dimensional embedding\n",
        "\n",
        "# Get the information of TSNE and a plotting template from ChatGPT\n",
        "\n",
        "tsne = TSNE(n_components=2)\n",
        "words_embeddings_2d = tsne.fit_transform(words_embeddings)\n",
        "\n",
        "plt.figure(figsize=(10, 6))\n",
        "for i, word in enumerate(words):\n",
        "    plt.scatter(words_embeddings_2d[i, 0], words_embeddings_2d[i, 1], c=\"skyblue\")\n",
        "    plt.text(words_embeddings_2d[i, 0] + 0.05, words_embeddings_2d[i, 1], word, fontsize=8)\n",
        "\n",
        "plt.title(\"Word Relationships from Google Analogy Task\")\n",
        "plt.show()\n",
        "plt.savefig(\"word_relationships.png\", bbox_inches=\"tight\")"
      ]
    },
    {
      "cell_type": "markdown",
      "metadata": {
        "id": "DKRPJxgKXH4j"
      },
      "source": [
        "### Part III: Train your own word embeddings"
      ]
    },
    {
      "cell_type": "markdown",
      "metadata": {
        "id": "VC_0fE1UzL8T"
      },
      "source": [
        "### Get the latest English Wikipedia articles and do sampling.\n",
        "- Usually, we start from Wikipedia dump (https://dumps.wikimedia.org/enwiki/latest/enwiki-latest-pages-articles.xml.bz2). However, the downloading step will take very long. Also, the cleaning step for the Wikipedia corpus ([`gensim.corpora.wikicorpus.WikiCorpus`](https://radimrehurek.com/gensim/corpora/wikicorpus.html#gensim.corpora.wikicorpus.WikiCorpus)) will take much time. Therefore, we provide cleaned files for you."
      ]
    },
    {
      "cell_type": "code",
      "execution_count": null,
      "metadata": {
        "id": "FkubArwCCYxR"
      },
      "outputs": [],
      "source": [
        "# Download the split Wikipedia files\n",
        "# Each file contain 562365 lines (articles).\n",
        "!gdown --id 1jiu9E1NalT2Y8EIuWNa1xf2Tw1f1XuGd -O wiki_texts_part_0.txt.gz\n",
        "!gdown --id 1ABblLRd9HXdXvaNv8H9fFq984bhnowoG -O wiki_texts_part_1.txt.gz\n",
        "!gdown --id 1z2VFNhpPvCejTP5zyejzKj5YjI_Bn42M -O wiki_texts_part_2.txt.gz\n",
        "!gdown --id 1VKjded9BxADRhIoCzXy_W8uzVOTWIf0g -O wiki_texts_part_3.txt.gz\n",
        "!gdown --id 16mBeG26m9LzHXdPe8UrijUIc6sHxhknz -O wiki_texts_part_4.txt.gz"
      ]
    },
    {
      "cell_type": "code",
      "execution_count": null,
      "metadata": {
        "id": "8S3ibNT3C8Xk"
      },
      "outputs": [],
      "source": [
        "# Download the split Wikipedia files\n",
        "# Each file contain 562365 lines (articles), except the last file.\n",
        "!gdown --id 17JFvxOH-kc-VmvGkhG7p3iSZSpsWdgJI -O wiki_texts_part_5.txt.gz\n",
        "!gdown --id 19IvB2vOJRGlrYulnTXlZECR8zT5v550P -O wiki_texts_part_6.txt.gz\n",
        "!gdown --id 1sjwO8A2SDOKruv6-8NEq7pEIuQ50ygVV -O wiki_texts_part_7.txt.gz\n",
        "!gdown --id 1s7xKWJmyk98Jbq6Fi1scrHy7fr_ellUX -O wiki_texts_part_8.txt.gz\n",
        "!gdown --id 17eQXcrvY1cfpKelLbP2BhQKrljnFNykr -O wiki_texts_part_9.txt.gz\n",
        "!gdown --id 1J5TAN6bNBiSgTIYiPwzmABvGhAF58h62 -O wiki_texts_part_10.txt.gz"
      ]
    },
    {
      "cell_type": "code",
      "execution_count": 89,
      "metadata": {
        "id": "DUg_c79BC7OL"
      },
      "outputs": [
        {
          "name": "stderr",
          "output_type": "stream",
          "text": [
            "'gunzip' ���O�����Υ~���R�O�B�i���檺�{���Χ妸�ɡC\n"
          ]
        }
      ],
      "source": [
        "# Extract the downloaded wiki_texts_parts files.\n",
        "!gunzip -k wiki_texts_part_*.gz"
      ]
    },
    {
      "cell_type": "code",
      "execution_count": 91,
      "metadata": {
        "id": "7duk2RbYDB02"
      },
      "outputs": [
        {
          "name": "stderr",
          "output_type": "stream",
          "text": [
            "'cat' ���O�����Υ~���R�O�B�i���檺�{���Χ妸�ɡC\n"
          ]
        }
      ],
      "source": [
        "# Combine the extracted wiki_texts_parts files.\n",
        "!cat wiki_texts_part_*.txt > wiki_texts_combined.txt"
      ]
    },
    {
      "cell_type": "code",
      "execution_count": 4,
      "metadata": {
        "id": "givLH7NrDs6X"
      },
      "outputs": [
        {
          "name": "stderr",
          "output_type": "stream",
          "text": [
            "'head' ���O�����Υ~���R�O�B�i���檺�{���Χ妸�ɡC\n"
          ]
        }
      ],
      "source": [
        "# Check the first ten lines of the combined file\n",
        "!head -n 10 wiki_texts_combined.txt"
      ]
    },
    {
      "cell_type": "markdown",
      "metadata": {
        "id": "Hfwx92QCEhrq"
      },
      "source": [
        "Please note that we used the default parameters of [`gensim.corpora.wikicorpus.WikiCorpus`](https://radimrehurek.com/gensim/corpora/wikicorpus.html#gensim.corpora.wikicorpus.WikiCorpus) for cleaning the Wiki raw file. Thus, words with one character were discarded."
      ]
    },
    {
      "cell_type": "code",
      "execution_count": 5,
      "metadata": {
        "id": "vUAzButoP03w"
      },
      "outputs": [
        {
          "name": "stderr",
          "output_type": "stream",
          "text": [
            "5622333it [00:54, 103059.23it/s]\n"
          ]
        }
      ],
      "source": [
        "# Now you need to do sampling because the corpus is too big.\n",
        "# You can further perform analysis with a greater sampling ratio.\n",
        "\n",
        "import random\n",
        "\n",
        "wiki_txt_path = \"wiki_texts_combined.txt\"\n",
        "output_path = \"output.txt\"\n",
        "# wiki_texts_combined.txt is a text file separated by linebreaks (\\n).\n",
        "# Each row in wiki_texts_combined.txt indicates a Wikipedia article.\n",
        "\n",
        "sampling_ratio = 0.2\n",
        "\n",
        "# Since directly read all the text file and do sampling may cost too much memory\n",
        "# Getting the idea of reservoir(pooling) by asking ChatGPT\n",
        "\n",
        "with open(wiki_txt_path, \"r\", encoding=\"utf-16\") as f:\n",
        "    with open(output_path, \"w\", encoding=\"utf-8\") as output_file:\n",
        "    # TODO4: Sample `20%` Wikipedia articles\n",
        "    # Write your code here\n",
        "        reservoir = []\n",
        "        article_count = 0\n",
        "        \n",
        "        for line in tqdm(f):\n",
        "            article_count += 1\n",
        "            if len(reservoir) < int(sampling_ratio * article_count):\n",
        "                reservoir.append(line)\n",
        "            else:\n",
        "                replace_index = random.randint(0, article_count - 1)\n",
        "                if replace_index < len(reservoir):\n",
        "                    reservoir[replace_index] = line\n",
        "        output_file.writelines(reservoir)"
      ]
    },
    {
      "cell_type": "code",
      "execution_count": null,
      "metadata": {
        "id": "G7q1Xzunxkdc"
      },
      "outputs": [],
      "source": [
        "# TODO5: Train your own word embeddings with the sampled articles\n",
        "# https://radimrehurek.com/gensim/models/word2vec.html#gensim.models.word2vec.Word2Vec\n",
        "# Hint: You should perform some pre-processing before training."
      ]
    },
    {
      "cell_type": "code",
      "execution_count": 6,
      "metadata": {
        "id": "qWiQF70izxP7"
      },
      "outputs": [],
      "source": [
        "data = pd.read_csv(\"questions-words.csv\")"
      ]
    },
    {
      "cell_type": "code",
      "execution_count": 3,
      "metadata": {},
      "outputs": [
        {
          "name": "stderr",
          "output_type": "stream",
          "text": [
            "[nltk_data] Downloading package words to\n",
            "[nltk_data]     C:\\Users\\User\\AppData\\Roaming\\nltk_data...\n",
            "[nltk_data]   Package words is already up-to-date!\n",
            "[nltk_data] Downloading package stopwords to\n",
            "[nltk_data]     C:\\Users\\User\\AppData\\Roaming\\nltk_data...\n",
            "[nltk_data]   Package stopwords is already up-to-date!\n"
          ]
        }
      ],
      "source": [
        "# pre-processing data and train model\n",
        "from gensim.models import word2vec\n",
        "\n",
        "import nltk\n",
        "nltk.download('words')\n",
        "nltk.download('stopwords')\n",
        "\n",
        "english_words = set(nltk.corpus.words.words())\n",
        "stop_words = set(nltk.corpus.stopwords.words('english'))\n",
        "\n",
        "with open(\"questions-words.txt\", 'r', encoding=\"utf-8\") as f:\n",
        "    for line in f.readlines():\n",
        "        if line[0] == \":\":\n",
        "            continue\n",
        "        else:\n",
        "            english_words.update(set(map(lambda x: x.lower(), line.split())))\n",
        "            stop_words = set(filter(lambda x: x.lower() not in line.split(), stop_words))\n",
        "\n",
        "\n",
        "# recommend preprocessing steps\n",
        "# remove non-English words\n",
        "# remove stop words\n",
        "# Lemmatization (cost too much time)\n",
        "# Better tokenization than simply splitting words based on whitespaces (not effective in this case)\n",
        "# Retain the most frequent words for the dictionary (x)\n",
        "\n",
        "# Ask GPT to fix the problem with my original generator\n",
        "# TypeError: Using a generator as corpus_iterable can't support 6 passes. Try a re-iterable sequence.\n",
        "\n",
        "class CorpusGenerator:\n",
        "    def __init__(self, file_path):\n",
        "        self.file_path = file_path\n",
        "    \n",
        "    def __iter__(self):\n",
        "        with open(self.file_path, 'r', encoding='utf-8') as f:\n",
        "            for line in f:\n",
        "                tokenized = list(map(lambda x: x.lower(), line.split()))\n",
        "                filtered = list(filter(lambda w: (w in english_words or not w.isalpha()) and w not in stop_words, tokenized))\n",
        "                yield filtered\n",
        "\n",
        "gen = CorpusGenerator(\"output.txt\")\n",
        "myModel = word2vec.Word2Vec(sentences=gen, vector_size=100, window=5, min_count=1, workers=8, epochs=5)\n",
        "\n",
        "myModel.save(\"word2vec_model.model\")\n"
      ]
    },
    {
      "cell_type": "code",
      "execution_count": 54,
      "metadata": {
        "id": "q6xpqgdIy5x1"
      },
      "outputs": [
        {
          "name": "stderr",
          "output_type": "stream",
          "text": [
            "100%|██████████| 19544/19544 [01:51<00:00, 175.04it/s]\n"
          ]
        }
      ],
      "source": [
        "# Do predictions and preserve the gold answers (word_D)\n",
        "preds = []\n",
        "golds = []\n",
        "\n",
        "for analogy in tqdm(data[\"Question\"]):\n",
        "      # TODO6: Write your code here to use your trained word embeddings for getting predictions of the analogy task.\n",
        "      # You should also preserve the gold answers during iterations for evaluations later.\n",
        "      \"\"\" Hints\n",
        "      # Unpack the analogy (e.g., \"man\", \"woman\", \"king\", \"queen\")\n",
        "      # Perform vector arithmetic: word_b + word_c - word_a should be close to word_d\n",
        "      # Source: https://github.com/piskvorky/gensim/blob/develop/gensim/models/keyedvectors.py#L776\n",
        "      # Mikolov et al., 2013: big - biggest and small - smallest\n",
        "      # Mikolov et al., 2013: X = vector(”biggest”) - vector(”big”) + vector(”small”).\n",
        "      \"\"\"\n",
        "      unpack = analogy.split()\n",
        "      unpack = list(map(lambda x: x.lower(), unpack))\n",
        "      golds.append(unpack[-1])\n",
        "      # get word vector\n",
        "      a = myModel.wv[unpack[0]]\n",
        "      b = myModel.wv[unpack[1]]\n",
        "      c = myModel.wv[unpack[2]]\n",
        "      X = b + c - a\n",
        "      result = myModel.wv.similar_by_vector(X, topn=1)\n",
        "      preds.append(result[0][0])"
      ]
    },
    {
      "cell_type": "code",
      "execution_count": 55,
      "metadata": {},
      "outputs": [
        {
          "name": "stdout",
          "output_type": "stream",
          "text": [
            "Category: Semantic, Accuracy: 37.332280978689816%\n",
            "Category: Syntatic, Accuracy: 17.489461358313818%\n",
            "Sub-Category: capital-common-countries, Accuracy: 72.92490118577075%\n",
            "Sub-Category: capital-world, Accuracy: 50.1105216622458%\n",
            "Sub-Category: currency, Accuracy: 2.771362586605081%\n",
            "Sub-Category: city-in-state, Accuracy: 18.15970814754763%\n",
            "Sub-Category: family, Accuracy: 40.11857707509881%\n",
            "Sub-Category: gram1-adjective-to-adverb, Accuracy: 2.4193548387096775%\n",
            "Sub-Category: gram2-opposite, Accuracy: 1.477832512315271%\n",
            "Sub-Category: gram3-comparative, Accuracy: 13.213213213213212%\n",
            "Sub-Category: gram4-superlative, Accuracy: 5.169340463458111%\n",
            "Sub-Category: gram5-present-participle, Accuracy: 2.746212121212121%\n",
            "Sub-Category: gram6-nationality-adjective, Accuracy: 77.23577235772358%\n",
            "Sub-Category: gram7-past-tense, Accuracy: 7.115384615384615%\n",
            "Sub-Category: gram8-plural, Accuracy: 8.483483483483484%\n",
            "Sub-Category: gram9-plural-verbs, Accuracy: 12.528735632183906%\n"
          ]
        }
      ],
      "source": [
        "# Perform evaluations. You do not need to modify this block!!\n",
        "\n",
        "def calculate_accuracy(gold: np.ndarray, pred: np.ndarray) -> float:\n",
        "    return np.mean(gold == pred)\n",
        "\n",
        "golds_np, preds_np = np.array(golds), np.array(preds)\n",
        "data = pd.read_csv(\"questions-words.csv\")\n",
        "\n",
        "# Evaluation: categories\n",
        "for category in data[\"Category\"].unique():\n",
        "    mask = data[\"Category\"] == category\n",
        "    golds_cat, preds_cat = golds_np[mask], preds_np[mask]\n",
        "    acc_cat = calculate_accuracy(golds_cat, preds_cat)\n",
        "    print(f\"Category: {category}, Accuracy: {acc_cat * 100}%\")\n",
        "\n",
        "# Evaluation: sub-categories\n",
        "for sub_category in data[\"SubCategory\"].unique():\n",
        "    mask = data[\"SubCategory\"] == sub_category\n",
        "    golds_subcat, preds_subcat = golds_np[mask], preds_np[mask]\n",
        "    acc_subcat = calculate_accuracy(golds_subcat, preds_subcat)\n",
        "    print(f\"Sub-Category{sub_category}, Accuracy: {acc_subcat * 100}%\")"
      ]
    },
    {
      "cell_type": "code",
      "execution_count": 57,
      "metadata": {
        "id": "AjZ14dQL0mhf"
      },
      "outputs": [
        {
          "data": {
            "image/png": "[encoded data removed]",
            "text/plain": [
              "<Figure size 1000x600 with 1 Axes>"
            ]
          },
          "metadata": {},
          "output_type": "display_data"
        },
        {
          "data": {
            "text/plain": [
              "<Figure size 640x480 with 0 Axes>"
            ]
          },
          "metadata": {},
          "output_type": "display_data"
        }
      ],
      "source": [
        "# Collect words from Google Analogy dataset\n",
        "SUB_CATEGORY = \": family\"\n",
        "\n",
        "# TODO7: Plot t-SNE for the words in the SUB_CATEGORY `: family`\n",
        "\n",
        "words = set()\n",
        "for i in range(len(data[\"SubCategory\"])):\n",
        "    if data[\"SubCategory\"][i] == \": family\":\n",
        "        question = set(data[\"Question\"][i].split())\n",
        "        words.update(question)\n",
        "words = list(map(lambda x: x.lower(), words))\n",
        "\n",
        "words_embeddings = np.array(myModel.wv[words]) # 100-dimensional embedding\n",
        "\n",
        "tsne = TSNE(n_components=2)\n",
        "words_embeddings_2d = tsne.fit_transform(words_embeddings)\n",
        "\n",
        "plt.figure(figsize=(10, 6))\n",
        "for i, word in enumerate(words):\n",
        "    plt.scatter(words_embeddings_2d[i, 0], words_embeddings_2d[i, 1], c=\"skyblue\")\n",
        "    plt.text(words_embeddings_2d[i, 0] + 0.05, words_embeddings_2d[i, 1], word, fontsize=8)\n",
        "\n",
        "\n",
        "plt.title(\"Word Relationships from Google Analogy Task\")\n",
        "plt.show()\n",
        "plt.savefig(\"word_relationships.png\", bbox_inches=\"tight\")"
      ]
    }
  ],
  "metadata": {
    "colab": {
      "provenance": []
    },
    "kernelspec": {
      "display_name": "Python 3",
      "name": "python3"
    },
    "language_info": {
      "codemirror_mode": {
        "name": "ipython",
        "version": 3
      },
      "file_extension": ".py",
      "mimetype": "text/x-python",
      "name": "python",
      "nbconvert_exporter": "python",
      "pygments_lexer": "ipython3",
      "version": "3.9.13"
    }
  },
  "nbformat": 4,
  "nbformat_minor": 0
}
